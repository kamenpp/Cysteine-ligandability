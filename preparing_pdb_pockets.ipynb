{
 "cells": [
  {
   "cell_type": "code",
   "execution_count": 19,
   "id": "3f501f78-158c-4c68-8f97-a2f15e2577e6",
   "metadata": {},
   "outputs": [],
   "source": [
    "import pandas as pd\n",
    "from rdkit import Chem\n",
    "import os\n",
    "import numpy as np\n",
    "\n",
    "from tqdm import tqdm\n",
    "import MDAnalysis as mda"
   ]
  },
  {
   "cell_type": "code",
   "execution_count": 2,
   "id": "c7018e1a-14e5-4e38-8b65-124e927a78c4",
   "metadata": {},
   "outputs": [],
   "source": [
    "af_human_proteome = os.listdir('/Users/kamen/Downloads/UP000005640_9606_HUMAN_v4/unzipped/')"
   ]
  },
  {
   "cell_type": "code",
   "execution_count": 3,
   "id": "1ccf3a68-baf0-45d4-81a2-8b646d086e79",
   "metadata": {},
   "outputs": [],
   "source": [
    "hct116 = pd.read_csv('../hct116_without_CR.csv')"
   ]
  },
  {
   "cell_type": "code",
   "execution_count": 4,
   "id": "f2203774-3afa-47bd-9800-fe680e94fa80",
   "metadata": {},
   "outputs": [],
   "source": [
    "unique_proteins = set()\n",
    "dupes = [x for x in af_human_proteome if x.split('-')[1] in unique_proteins or unique_proteins.add(x.split('-')[1])]"
   ]
  },
  {
   "cell_type": "code",
   "execution_count": 6,
   "id": "798d8e3f-c2ef-4684-8c1f-a09cb57d4f46",
   "metadata": {},
   "outputs": [
    {
     "data": {
      "text/plain": [
       "6089"
      ]
     },
     "execution_count": 6,
     "metadata": {},
     "output_type": "execute_result"
    }
   ],
   "source": [
    "len(set(hct116['uid']))"
   ]
  },
  {
   "cell_type": "code",
   "execution_count": 5,
   "id": "75b0d2a1-9c26-4d50-84ea-ea3fd5d62afb",
   "metadata": {},
   "outputs": [
    {
     "data": {
      "text/plain": [
       "5988"
      ]
     },
     "execution_count": 5,
     "metadata": {},
     "output_type": "execute_result"
    }
   ],
   "source": [
    "len(unique_proteins.intersection(set(hct116['uid'])))"
   ]
  },
  {
   "cell_type": "markdown",
   "id": "3b936e80-a13c-4394-a7fa-8e4453a8a133",
   "metadata": {},
   "source": [
    "There are 101 proteins in the assay that are not in the AF predictions"
   ]
  },
  {
   "cell_type": "code",
   "execution_count": 7,
   "id": "e9f79243-9975-40fe-9724-3f23642013b8",
   "metadata": {},
   "outputs": [],
   "source": [
    "hct116['in_af'] = hct116['uid'].apply(lambda x: x in unique_proteins)"
   ]
  },
  {
   "cell_type": "markdown",
   "id": "258a5750-73ed-4d2b-8991-fb2ad876ef6b",
   "metadata": {},
   "source": [
    "These UniProt IDs are not in the AF set - I guess it is because they are from another organism (tr not sp)"
   ]
  },
  {
   "cell_type": "code",
   "execution_count": 8,
   "id": "db35b24c-6378-4572-86a7-0ff5f7b1b7ee",
   "metadata": {},
   "outputs": [
    {
     "data": {
      "text/html": [
       "<div>\n",
       "<style scoped>\n",
       "    .dataframe tbody tr th:only-of-type {\n",
       "        vertical-align: middle;\n",
       "    }\n",
       "\n",
       "    .dataframe tbody tr th {\n",
       "        vertical-align: top;\n",
       "    }\n",
       "\n",
       "    .dataframe thead th {\n",
       "        text-align: right;\n",
       "    }\n",
       "</style>\n",
       "<table border=\"1\" class=\"dataframe\">\n",
       "  <thead>\n",
       "    <tr style=\"text-align: right;\">\n",
       "      <th></th>\n",
       "      <th>Uniprot ID</th>\n",
       "      <th>Site Position</th>\n",
       "      <th>Gene Symbol</th>\n",
       "      <th>uid</th>\n",
       "      <th>in_af</th>\n",
       "    </tr>\n",
       "  </thead>\n",
       "  <tbody>\n",
       "    <tr>\n",
       "      <th>83</th>\n",
       "      <td>tr|F5GX68|F5GX68_HUMAN</td>\n",
       "      <td>1476</td>\n",
       "      <td>DNMT1</td>\n",
       "      <td>F5GX68</td>\n",
       "      <td>False</td>\n",
       "    </tr>\n",
       "    <tr>\n",
       "      <th>84</th>\n",
       "      <td>tr|F5GX68|F5GX68_HUMAN</td>\n",
       "      <td>1478</td>\n",
       "      <td>DNMT1</td>\n",
       "      <td>F5GX68</td>\n",
       "      <td>False</td>\n",
       "    </tr>\n",
       "    <tr>\n",
       "      <th>210</th>\n",
       "      <td>tr|B3V0L1|B3V0L1_HUMAN</td>\n",
       "      <td>36</td>\n",
       "      <td>ARL6IP4</td>\n",
       "      <td>B3V0L1</td>\n",
       "      <td>False</td>\n",
       "    </tr>\n",
       "    <tr>\n",
       "      <th>211</th>\n",
       "      <td>tr|B3V0L1|B3V0L1_HUMAN</td>\n",
       "      <td>48</td>\n",
       "      <td>ARL6IP4</td>\n",
       "      <td>B3V0L1</td>\n",
       "      <td>False</td>\n",
       "    </tr>\n",
       "    <tr>\n",
       "      <th>237</th>\n",
       "      <td>sp|P36969|GPX4_HUMAN</td>\n",
       "      <td>93</td>\n",
       "      <td>GPX4</td>\n",
       "      <td>P36969</td>\n",
       "      <td>False</td>\n",
       "    </tr>\n",
       "    <tr>\n",
       "      <th>...</th>\n",
       "      <td>...</td>\n",
       "      <td>...</td>\n",
       "      <td>...</td>\n",
       "      <td>...</td>\n",
       "      <td>...</td>\n",
       "    </tr>\n",
       "    <tr>\n",
       "      <th>22988</th>\n",
       "      <td>tr|E9PHB3|E9PHB3_HUMAN</td>\n",
       "      <td>234</td>\n",
       "      <td>ZNF384</td>\n",
       "      <td>E9PHB3</td>\n",
       "      <td>False</td>\n",
       "    </tr>\n",
       "    <tr>\n",
       "      <th>22989</th>\n",
       "      <td>tr|E9PHB3|E9PHB3_HUMAN</td>\n",
       "      <td>261</td>\n",
       "      <td>ZNF384</td>\n",
       "      <td>E9PHB3</td>\n",
       "      <td>False</td>\n",
       "    </tr>\n",
       "    <tr>\n",
       "      <th>22990</th>\n",
       "      <td>tr|E9PHB3|E9PHB3_HUMAN</td>\n",
       "      <td>264</td>\n",
       "      <td>ZNF384</td>\n",
       "      <td>E9PHB3</td>\n",
       "      <td>False</td>\n",
       "    </tr>\n",
       "    <tr>\n",
       "      <th>23054</th>\n",
       "      <td>tr|J3KR51|J3KR51_HUMAN</td>\n",
       "      <td>357</td>\n",
       "      <td>ZNF525</td>\n",
       "      <td>J3KR51</td>\n",
       "      <td>False</td>\n",
       "    </tr>\n",
       "    <tr>\n",
       "      <th>23055</th>\n",
       "      <td>tr|J3KR51|J3KR51_HUMAN</td>\n",
       "      <td>360</td>\n",
       "      <td>ZNF525</td>\n",
       "      <td>J3KR51</td>\n",
       "      <td>False</td>\n",
       "    </tr>\n",
       "  </tbody>\n",
       "</table>\n",
       "<p>239 rows × 5 columns</p>\n",
       "</div>"
      ],
      "text/plain": [
       "                   Uniprot ID  Site Position Gene Symbol     uid  in_af\n",
       "83     tr|F5GX68|F5GX68_HUMAN           1476       DNMT1  F5GX68  False\n",
       "84     tr|F5GX68|F5GX68_HUMAN           1478       DNMT1  F5GX68  False\n",
       "210    tr|B3V0L1|B3V0L1_HUMAN             36     ARL6IP4  B3V0L1  False\n",
       "211    tr|B3V0L1|B3V0L1_HUMAN             48     ARL6IP4  B3V0L1  False\n",
       "237      sp|P36969|GPX4_HUMAN             93        GPX4  P36969  False\n",
       "...                       ...            ...         ...     ...    ...\n",
       "22988  tr|E9PHB3|E9PHB3_HUMAN            234      ZNF384  E9PHB3  False\n",
       "22989  tr|E9PHB3|E9PHB3_HUMAN            261      ZNF384  E9PHB3  False\n",
       "22990  tr|E9PHB3|E9PHB3_HUMAN            264      ZNF384  E9PHB3  False\n",
       "23054  tr|J3KR51|J3KR51_HUMAN            357      ZNF525  J3KR51  False\n",
       "23055  tr|J3KR51|J3KR51_HUMAN            360      ZNF525  J3KR51  False\n",
       "\n",
       "[239 rows x 5 columns]"
      ]
     },
     "execution_count": 8,
     "metadata": {},
     "output_type": "execute_result"
    }
   ],
   "source": [
    "hct116.loc[~hct116['in_af']]"
   ]
  },
  {
   "cell_type": "code",
   "execution_count": 9,
   "id": "51d8d14c-fc9b-41d4-bd64-72dce72fcab6",
   "metadata": {},
   "outputs": [],
   "source": [
    "hct116 = hct116.loc[hct116['in_af']]\n",
    "hct116 = hct116.drop(columns='in_af')"
   ]
  },
  {
   "cell_type": "markdown",
   "id": "a4ef7f6b-890e-4644-9c5c-30971474c102",
   "metadata": {},
   "source": [
    "Find all the Cys S atoms"
   ]
  },
  {
   "cell_type": "code",
   "execution_count": 10,
   "id": "55883f3a-6d7f-45b6-a61b-4e2a310d1eba",
   "metadata": {},
   "outputs": [
    {
     "name": "stderr",
     "output_type": "stream",
     "text": [
      "100%|██████████| 23392/23392 [01:31<00:00, 254.83it/s]\n"
     ]
    }
   ],
   "source": [
    "chain_id = []\n",
    "sulfur_name = []\n",
    "cys_idx = []\n",
    "pdb_ids = [] \n",
    "file_names = []\n",
    "visited = set()\n",
    "for pdb in tqdm(af_human_proteome):\n",
    "    if (pdb.split('-')[1]) not in visited:\n",
    "        visited.add(pdb.split('-')[1])\n",
    "        with open(os.path.join('/Users/kamen/Downloads/UP000005640_9606_HUMAN_v4/unzipped', pdb), 'r') as f:\n",
    "            for line in f.readlines():\n",
    "                line_li = line.split()\n",
    "                if len(line_li) == 12 and line_li[2].startswith('S') and line_li[3] == 'CYS':\n",
    "                    pdb_ids.append(pdb.split('-')[1])\n",
    "                    cys_idx.append(line_li[5])\n",
    "                    sulfur_name.append(line_li[2])\n",
    "                    chain_id.append(line_li[4])\n",
    "                    file_names.append(pdb)\n",
    "        f.close()"
   ]
  },
  {
   "cell_type": "code",
   "execution_count": 13,
   "id": "3b51372b-2b8b-44a3-9929-2a84eb21e924",
   "metadata": {},
   "outputs": [],
   "source": [
    "af_human_proteome_df = pd.DataFrame(columns=['uid', 'cys_idx', 'sulfur_name','chain_id', 'file_name'])\n",
    "af_human_proteome_df['uid'] = pdb_ids\n",
    "af_human_proteome_df['cys_idx'] = cys_idx\n",
    "af_human_proteome_df['sulfur_name'] = sulfur_name\n",
    "af_human_proteome_df['chain_id'] = chain_id\n",
    "af_human_proteome_df['file_name'] = file_names"
   ]
  },
  {
   "cell_type": "code",
   "execution_count": 11,
   "id": "ae8fb8c5-d186-4b67-82c3-5d512454d831",
   "metadata": {},
   "outputs": [],
   "source": [
    "hct116['Site Position'] = hct116['Site Position'].apply(lambda x: str(x))\n",
    "hct116['uid'] = hct116['uid'].apply(lambda x: x.split('-')[0])\n",
    "hct116['combined_id_idx'] = hct116[['uid', 'Site Position']].apply(tuple, axis=1)\n",
    "positive_tuples = set(hct116['combined_id_idx'].values)"
   ]
  },
  {
   "cell_type": "markdown",
   "id": "cbd95bd4-bba8-494a-82be-7bc68a380c76",
   "metadata": {},
   "source": [
    "These are all the cysteines that Kuljanin saw (the ones that bound a the proe in their study)"
   ]
  },
  {
   "cell_type": "code",
   "execution_count": 12,
   "id": "e57046c5-dc9a-4988-bf05-242b66ea9aa1",
   "metadata": {},
   "outputs": [
    {
     "data": {
      "text/plain": [
       "23124"
      ]
     },
     "execution_count": 12,
     "metadata": {},
     "output_type": "execute_result"
    }
   ],
   "source": [
    "len(positive_tuples)"
   ]
  },
  {
   "cell_type": "code",
   "execution_count": 15,
   "id": "42b9fb84-2367-4c0e-ac33-13f6aecb533f",
   "metadata": {},
   "outputs": [],
   "source": [
    "af_human_proteome_df['combined_id_idx'] = af_human_proteome_df[['uid', 'cys_idx']].apply(tuple, axis=1)"
   ]
  },
  {
   "cell_type": "code",
   "execution_count": 16,
   "id": "056a2495-3849-41d7-a7fe-6b058e760007",
   "metadata": {},
   "outputs": [],
   "source": [
    "af_human_proteome_df['positive'] = af_human_proteome_df['combined_id_idx'].apply(lambda x: x in positive_tuples)"
   ]
  },
  {
   "cell_type": "code",
   "execution_count": 18,
   "id": "d3a548b4-efc8-46b1-918f-cdb1220ba55e",
   "metadata": {},
   "outputs": [
    {
     "data": {
      "text/plain": [
       "False    209913\n",
       "True      18361\n",
       "Name: positive, dtype: int64"
      ]
     },
     "execution_count": 18,
     "metadata": {},
     "output_type": "execute_result"
    }
   ],
   "source": [
    "af_human_proteome_df['positive'].value_counts()"
   ]
  },
  {
   "cell_type": "markdown",
   "id": "fb34a6cf-5ab6-4998-9dcd-355a400a9967",
   "metadata": {},
   "source": [
    "Nearly only 10% of the cysteines are ligandable - can slightly increase this number if we filter out the disulfide bridges"
   ]
  },
  {
   "cell_type": "code",
   "execution_count": 20,
   "id": "ecc3a5e6-af1f-49fe-aa5b-c512884c1300",
   "metadata": {},
   "outputs": [
    {
     "name": "stderr",
     "output_type": "stream",
     "text": [
      "0it [00:00, ?it/s]/Users/kamen/opt/anaconda3/envs/DeepCoSI/lib/python3.6/site-packages/MDAnalysis/coordinates/PDB.py:429: UserWarning: 1 A^3 CRYST1 record, this is usually a placeholder. Unit cell dimensions will be set to None.\n",
      "  warnings.warn(\"1 A^3 CRYST1 record,\"\n",
      "/Users/kamen/opt/anaconda3/envs/DeepCoSI/lib/python3.6/site-packages/MDAnalysis/coordinates/PDB.py:747: UserWarning: Unit cell dimensions not found. CRYST1 record set to unitary values.\n",
      "  warnings.warn(\"Unit cell dimensions not found. \"\n",
      "228274it [6:40:15,  9.51it/s] \n"
     ]
    }
   ],
   "source": [
    "for i,row in tqdm(af_human_proteome_df.iterrows()):\n",
    "    uid,cys_idx, pdb = row[0],row[1], row[-3]\n",
    "    prot = mda.Universe(os.path.join('/Users/kamen/Downloads/UP000005640_9606_HUMAN_v4/unzipped/',pdb))\n",
    "    prot = prot.select_atoms(\"protein\")\n",
    "    selected_atoms = prot.select_atoms(f\"byres sphzone 10.0 name SG and resid {cys_idx} and segid A\")\n",
    "    selected_atoms.write(f'cysteine_environments_10a_pdb/{uid}_{cys_idx}.pdb')"
   ]
  },
  {
   "cell_type": "markdown",
   "id": "a3ca2526-2468-4de6-bea8-b865768b7b26",
   "metadata": {},
   "source": [
    "Du et al. have code to detect the disulfide bridges directly from the pdb file, but in my case these are not indecated in the pdb file"
   ]
  },
  {
   "cell_type": "code",
   "execution_count": 22,
   "id": "a29e95ff-c2f2-4fef-98ad-aea22e15ff41",
   "metadata": {},
   "outputs": [],
   "source": [
    "af_human_proteome_df = af_human_proteome_df.sample(frac=1).reset_index()"
   ]
  },
  {
   "cell_type": "code",
   "execution_count": 28,
   "id": "e870cd3b-0786-44b3-9a4a-168927af111e",
   "metadata": {},
   "outputs": [],
   "source": [
    "af_human_proteome_df = af_human_proteome_df.drop('index', axis=1)"
   ]
  },
  {
   "cell_type": "markdown",
   "id": "ce1ed000-b6a0-4b75-bd45-bd89bafe3033",
   "metadata": {},
   "source": [
    "Randomize the protein in the dataset so we don't introduce any bias there"
   ]
  },
  {
   "cell_type": "code",
   "execution_count": 29,
   "id": "6189c16c-0549-425b-b809-56ab460a92de",
   "metadata": {},
   "outputs": [],
   "source": [
    "af_human_proteome_df.to_csv('af_human_proteome.csv', index=False)"
   ]
  },
  {
   "cell_type": "markdown",
   "id": "47ed85ac-5819-4bf9-a68c-a4e55ee4d8f0",
   "metadata": {},
   "source": [
    "For the new notebook"
   ]
  },
  {
   "cell_type": "code",
   "execution_count": null,
   "id": "4886ccb7-56fe-46f3-a269-35b89a0c8927",
   "metadata": {},
   "outputs": [],
   "source": [
    "af_human_proteome_df = pd.read_csv('af_human_proteome.csv')"
   ]
  },
  {
   "cell_type": "code",
   "execution_count": null,
   "id": "52b95a23-bafe-4f7f-8544-f531d44e6d74",
   "metadata": {},
   "outputs": [],
   "source": [
    "keys = [f'{row[0]}_{row[1]}' for i,row in af_human_proteome_df.iterrows()]\n",
    "labels = af_human_proteome_df['positive'].values\n",
    "cys_chain_and_idx = [(row[-2], int(row[1])) for i,row in af_human_proteome_df.iterrows()]\n",
    "pdb_pockets = ['cysteine_environments_10a_pdb/' + key + '.pdb' for key in keys]"
   ]
  },
  {
   "cell_type": "code",
   "execution_count": null,
   "id": "88ae2ce0-39d6-4ab3-bb36-deb82efd8c6e",
   "metadata": {},
   "outputs": [],
   "source": [
    "from DeepCoSI_GraphGenerate import graphs_from_pdb_pocket, collate_fn, GraphDatasetGenerateSingleThread"
   ]
  },
  {
   "cell_type": "code",
   "execution_count": null,
   "id": "a98494f1-21f6-49e9-ae83-3f4c92f97d7d",
   "metadata": {},
   "outputs": [],
   "source": [
    "for pdb_pocket,key,label,cys in tqdm(zip(pdb_pockets, keys,labels,cys_chain_and_idx)):\n",
    "    graphs = graphs_from_mol(pdb_pockets, key, label, cys, graph_dic_path='cysteine_pockets_as_rdkit_mols', path_marker='/', EtaR=4.00, ShfR=0.5, Zeta=8.00, ShtZ=0)"
   ]
  },
  {
   "cell_type": "code",
   "execution_count": null,
   "id": "7bb19845-fb57-45d9-a692-9fd43ca41aee",
   "metadata": {},
   "outputs": [],
   "source": [
    "train_dataset = GraphDatasetGenerateSingleThread(keys=keys[:150000], labels=labels[:150000],cyss=cys_chain_and_idx[:150000],\n",
    "                                       graph_ls_path='cached_datasets',\n",
    "                                       graph_dic_path='cysteine_pockets_as_rdkit_mols',\n",
    "                                       name_of_data='training',\n",
    "                                       path_marker='/')"
   ]
  },
  {
   "cell_type": "code",
   "execution_count": null,
   "id": "8765d926-a22c-4531-a2cd-f5b50fa5173d",
   "metadata": {},
   "outputs": [],
   "source": [
    "validation_dataset = "
   ]
  }
 ],
 "metadata": {
  "kernelspec": {
   "display_name": "Python 3",
   "language": "python",
   "name": "python3"
  },
  "language_info": {
   "codemirror_mode": {
    "name": "ipython",
    "version": 3
   },
   "file_extension": ".py",
   "mimetype": "text/x-python",
   "name": "python",
   "nbconvert_exporter": "python",
   "pygments_lexer": "ipython3",
   "version": "3.6.13"
  }
 },
 "nbformat": 4,
 "nbformat_minor": 5
}
